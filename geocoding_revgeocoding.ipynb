{
 "cells": [
  {
   "cell_type": "code",
   "execution_count": 1,
   "metadata": {},
   "outputs": [
    {
     "data": {
      "text/plain": [
       "geopy.geocoders.osm.Nominatim"
      ]
     },
     "execution_count": 1,
     "metadata": {},
     "output_type": "execute_result"
    }
   ],
   "source": [
    "from geopy.geocoders import Nominatim\n",
    "from geopy.exc import GeocoderTimedOut\n",
    "\n",
    "nom=Nominatim()\n",
    "type(nom)"
   ]
  },
  {
   "cell_type": "code",
   "execution_count": 53,
   "metadata": {},
   "outputs": [],
   "source": [
    "#Function to get coordinates corresponding to address\n",
    "def gcode(address):\n",
    "    try:\n",
    "        return nom.geocode(address)\n",
    "    except GeocoderTimedOut:\n",
    "        return gcode(address)\n",
    "\n",
    "loc=gcode(\"university kanpur\")"
   ]
  },
  {
   "cell_type": "code",
   "execution_count": 54,
   "metadata": {},
   "outputs": [
    {
     "data": {
      "text/plain": [
       "geopy.location.Location"
      ]
     },
     "execution_count": 54,
     "metadata": {},
     "output_type": "execute_result"
    }
   ],
   "source": [
    "type(loc)"
   ]
  },
  {
   "cell_type": "code",
   "execution_count": 56,
   "metadata": {},
   "outputs": [
    {
     "data": {
      "text/plain": [
       "['__class__',\n",
       " '__delattr__',\n",
       " '__dir__',\n",
       " '__doc__',\n",
       " '__eq__',\n",
       " '__format__',\n",
       " '__ge__',\n",
       " '__getattribute__',\n",
       " '__getitem__',\n",
       " '__getstate__',\n",
       " '__gt__',\n",
       " '__hash__',\n",
       " '__init__',\n",
       " '__init_subclass__',\n",
       " '__iter__',\n",
       " '__le__',\n",
       " '__len__',\n",
       " '__lt__',\n",
       " '__module__',\n",
       " '__ne__',\n",
       " '__new__',\n",
       " '__reduce__',\n",
       " '__reduce_ex__',\n",
       " '__repr__',\n",
       " '__setattr__',\n",
       " '__setstate__',\n",
       " '__sizeof__',\n",
       " '__slots__',\n",
       " '__str__',\n",
       " '__subclasshook__',\n",
       " '__unicode__',\n",
       " '_address',\n",
       " '_point',\n",
       " '_raw',\n",
       " '_tuple',\n",
       " 'address',\n",
       " 'altitude',\n",
       " 'latitude',\n",
       " 'longitude',\n",
       " 'point',\n",
       " 'raw']"
      ]
     },
     "execution_count": 56,
     "metadata": {},
     "output_type": "execute_result"
    }
   ],
   "source": [
    "dir(loc)"
   ]
  },
  {
   "cell_type": "code",
   "execution_count": 67,
   "metadata": {},
   "outputs": [
    {
     "name": "stdout",
     "output_type": "stream",
     "text": [
      "{'place_id': '179045225', 'licence': 'Data © OpenStreetMap contributors, ODbL 1.0. https://osm.org/copyright', 'osm_type': 'way', 'osm_id': '506689489', 'boundingbox': ['26.4959442', '26.5095301', '80.2608991', '80.273838'], 'lat': '26.5018924', 'lon': '80.2672701272793', 'display_name': 'Kanpur University, Buddha Park Access Rd., Armapur, Kanpur, Kanpur Nagar, Uttar Pradesh, 208012, India', 'class': 'amenity', 'type': 'university', 'importance': 0.20025, 'icon': 'https://nominatim.openstreetmap.org/images/mapicons/education_university.p.20.png'}\n"
     ]
    }
   ],
   "source": [
    "print(loc.raw)"
   ]
  },
  {
   "cell_type": "code",
   "execution_count": 72,
   "metadata": {},
   "outputs": [
    {
     "name": "stdout",
     "output_type": "stream",
     "text": [
      "26.5018924 80.2672701272793\n"
     ]
    }
   ],
   "source": [
    "print(loc.latitude, loc.longitude)"
   ]
  },
  {
   "cell_type": "code",
   "execution_count": 76,
   "metadata": {},
   "outputs": [],
   "source": [
    "#function to get address corresponding to coordinates\n",
    "def gcodeReverse(coordinates):\n",
    "    try:\n",
    "        return nom.reverse(coordinates)\n",
    "    except GeocoderTimedOut:\n",
    "        return gcodeReverse(coordinates)\n",
    "    \n",
    "loc=gcodeReverse(\"25.271593, 82.996107\")"
   ]
  },
  {
   "cell_type": "code",
   "execution_count": 78,
   "metadata": {},
   "outputs": [
    {
     "name": "stdout",
     "output_type": "stream",
     "text": [
      "{'place_id': '230891536', 'licence': 'Data © OpenStreetMap contributors, ODbL 1.0. https://osm.org/copyright', 'osm_type': 'way', 'osm_id': '322459733', 'lat': '25.2714317', 'lon': '82.9957923650139', 'display_name': 'museum, Semi Circle Road 3, ワーラーナシー, Jodhpur Colony, Vārānasi, Varanasi, Uttar Pradesh, 221005, India', 'address': {'building': 'museum', 'road': 'Semi Circle Road 3', 'residential': 'ワーラーナシー', 'hamlet': 'Jodhpur Colony', 'county': 'Vārānasi', 'state_district': 'Varanasi', 'state': 'Uttar Pradesh', 'postcode': '221005', 'country': 'India', 'country_code': 'in'}, 'boundingbox': ['25.2710028', '25.271865', '82.9953735', '82.9964454']}\n"
     ]
    }
   ],
   "source": [
    "print(loc.raw)"
   ]
  },
  {
   "cell_type": "code",
   "execution_count": 81,
   "metadata": {},
   "outputs": [
    {
     "data": {
      "text/plain": [
       "dict"
      ]
     },
     "execution_count": 81,
     "metadata": {},
     "output_type": "execute_result"
    }
   ],
   "source": [
    "type(loc.raw)"
   ]
  }
 ],
 "metadata": {
  "kernelspec": {
   "display_name": "Python 3",
   "language": "python",
   "name": "python3"
  },
  "language_info": {
   "codemirror_mode": {
    "name": "ipython",
    "version": 3
   },
   "file_extension": ".py",
   "mimetype": "text/x-python",
   "name": "python",
   "nbconvert_exporter": "python",
   "pygments_lexer": "ipython3",
   "version": "3.6.5"
  }
 },
 "nbformat": 4,
 "nbformat_minor": 2
}
